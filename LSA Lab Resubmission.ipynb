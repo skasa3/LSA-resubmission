{
 "cells": [
  {
   "cell_type": "code",
   "execution_count": 1,
   "metadata": {
    "collapsed": false
   },
   "outputs": [
    {
     "name": "stderr",
     "output_type": "stream",
     "text": [
      "WARNING:sklearn.datasets.twenty_newsgroups:Downloading dataset from http://people.csail.mit.edu/jrennie/20Newsgroups/20news-bydate.tar.gz (14 MB)\n"
     ]
    }
   ],
   "source": [
    "from sklearn.datasets import fetch_20newsgroups\n",
    "categories = ['rec.sport.baseball']\n",
    "dataset = fetch_20newsgroups(subset='all',shuffle=True, random_state=42, categories=categories)\n",
    "corpus = dataset.data"
   ]
  },
  {
   "cell_type": "code",
   "execution_count": 2,
   "metadata": {
    "collapsed": true
   },
   "outputs": [],
   "source": [
    "from bs4 import BeautifulSoup\n",
    "import nltk\n",
    "from nltk.corpus import stopwords\n",
    "from sklearn.feature_extraction.text import TfidfVectorizer\n",
    "from sklearn.decomposition import TruncatedSVD"
   ]
  },
  {
   "cell_type": "code",
   "execution_count": 3,
   "metadata": {
    "collapsed": false
   },
   "outputs": [
    {
     "name": "stdout",
     "output_type": "stream",
     "text": [
      "[nltk_data] Downloading package stopwords to C:\\Users\\shru.shru-\n",
      "[nltk_data]     PC\\AppData\\Roaming\\nltk_data...\n",
      "[nltk_data]   Unzipping corpora\\stopwords.zip.\n"
     ]
    },
    {
     "data": {
      "text/plain": [
       "True"
      ]
     },
     "execution_count": 3,
     "metadata": {},
     "output_type": "execute_result"
    }
   ],
   "source": [
    "nltk.download('stopwords')"
   ]
  },
  {
   "cell_type": "code",
   "execution_count": 9,
   "metadata": {
    "collapsed": true
   },
   "outputs": [],
   "source": [
    "stopset = set(stopwords.words('english'))"
   ]
  },
  {
   "cell_type": "code",
   "execution_count": 10,
   "metadata": {
    "collapsed": false
   },
   "outputs": [
    {
     "data": {
      "text/plain": [
       "u\"From: writingctr@leo.bsuvc.bsu.edu\\nSubject: Re: CUB fever.\\nOrganization: Ball State University, Muncie, In - Univ. Computing Svc's\\nLines: 21\\n\\n\\nIn article <kingoz.735285670@camelot>, kingoz@camelot.bradley.edu (Orin Roth) writes:\\n> \\n>    CUB fever is hitting me again. I'm beginning to think they have a \\n>    chance this year. (what the heck am i thinking?)\\n>    Sorry. Just a moment of incompetence.\\n>    I'll be ok. Really. \\n>    Orin.\\n>    Bradley U.\\n> \\n> --\\n> I'm really a jester in disguise!                                   \\nI hear ya!  Then again, we must remember that we are indeed Cub fans, and\\nthat the Cubs will eventually blow it.  After all, the Cubs are the easiest\\nteam in the National League to root for.  No Pressure.  You know they will\\nlose eventually.  Oh well, I suppose we must have faith.  After all, they\\ndo look pretty good, and they don't even have Sandberg back yet.  \\n\\nCUBS IN '93!!!!!\\n\\nCHA\\n\""
      ]
     },
     "execution_count": 10,
     "metadata": {},
     "output_type": "execute_result"
    }
   ],
   "source": [
    "corpus[0]"
   ]
  },
  {
   "cell_type": "code",
   "execution_count": 11,
   "metadata": {
    "collapsed": true
   },
   "outputs": [],
   "source": [
    "vectorizer = TfidfVectorizer(stop_words=stopset, use_idf=True, ngram_range=(1, 3))"
   ]
  },
  {
   "cell_type": "code",
   "execution_count": 12,
   "metadata": {
    "collapsed": true
   },
   "outputs": [],
   "source": [
    "X = vectorizer.fit_transform(corpus)"
   ]
  },
  {
   "cell_type": "code",
   "execution_count": 13,
   "metadata": {
    "collapsed": false
   },
   "outputs": [
    {
     "data": {
      "text/plain": [
       "<1x189677 sparse matrix of type '<type 'numpy.float64'>'\n",
       "\twith 232 stored elements in Compressed Sparse Row format>"
      ]
     },
     "execution_count": 13,
     "metadata": {},
     "output_type": "execute_result"
    }
   ],
   "source": [
    "X[0]"
   ]
  },
  {
   "cell_type": "code",
   "execution_count": 14,
   "metadata": {
    "collapsed": false
   },
   "outputs": [
    {
     "name": "stdout",
     "output_type": "stream",
     "text": [
      "  (0, 52209)\t0.073652687439\n",
      "  (0, 188947)\t0.073652687439\n",
      "  (0, 29674)\t0.073652687439\n",
      "  (0, 146368)\t0.073652687439\n",
      "  (0, 64821)\t0.073652687439\n",
      "  (0, 78565)\t0.073652687439\n",
      "  (0, 133659)\t0.073652687439\n",
      "  (0, 103679)\t0.073652687439\n",
      "  (0, 67208)\t0.073652687439\n",
      "  (0, 114755)\t0.073652687439\n",
      "  (0, 163238)\t0.073652687439\n",
      "  (0, 180956)\t0.073652687439\n",
      "  (0, 120118)\t0.073652687439\n",
      "  (0, 64959)\t0.073652687439\n",
      "  (0, 104171)\t0.073652687439\n",
      "  (0, 95951)\t0.073652687439\n",
      "  (0, 133574)\t0.073652687439\n",
      "  (0, 143532)\t0.073652687439\n",
      "  (0, 98564)\t0.073652687439\n",
      "  (0, 115396)\t0.073652687439\n",
      "  (0, 165609)\t0.073652687439\n",
      "  (0, 60032)\t0.073652687439\n",
      "  (0, 52249)\t0.073652687439\n",
      "  (0, 36448)\t0.073652687439\n",
      "  (0, 64945)\t0.073652687439\n",
      "  :\t:\n",
      "  (0, 143768)\t0.0553482070951\n",
      "  (0, 122784)\t0.11069641419\n",
      "  (0, 38247)\t0.0992624283609\n",
      "  (0, 41420)\t0.104818537242\n",
      "  (0, 17299)\t0.073652687439\n",
      "  (0, 95355)\t0.11069641419\n",
      "  (0, 26496)\t0.0161246502539\n",
      "  (0, 7924)\t0.0376276528198\n",
      "  (0, 101375)\t0.0102777150507\n",
      "  (0, 163827)\t0.0608545549183\n",
      "  (0, 48932)\t0.0389063101002\n",
      "  (0, 175382)\t0.0392526458093\n",
      "  (0, 114553)\t0.0608545549183\n",
      "  (0, 175418)\t0.0179872336028\n",
      "  (0, 158870)\t0.0373315183174\n",
      "  (0, 30196)\t0.030697863019\n",
      "  (0, 122169)\t0.0102983950679\n",
      "  (0, 68764)\t0.124858693402\n",
      "  (0, 52131)\t0.161320245937\n",
      "  (0, 161758)\t0.0102159249934\n",
      "  (0, 60531)\t0.0237947331321\n",
      "  (0, 39489)\t0.0506536592862\n",
      "  (0, 39499)\t0.0506536592862\n",
      "  (0, 99576)\t0.0496312141805\n",
      "  (0, 186434)\t0.073652687439\n"
     ]
    }
   ],
   "source": [
    "print X[0]"
   ]
  },
  {
   "cell_type": "code",
   "execution_count": 15,
   "metadata": {
    "collapsed": false
   },
   "outputs": [
    {
     "data": {
      "text/plain": [
       "(994, 189677)"
      ]
     },
     "execution_count": 15,
     "metadata": {},
     "output_type": "execute_result"
    }
   ],
   "source": [
    "X.shape"
   ]
  },
  {
   "cell_type": "code",
   "execution_count": 16,
   "metadata": {
    "collapsed": true
   },
   "outputs": [],
   "source": [
    "lsa = TruncatedSVD(n_components=27, n_iter=100)"
   ]
  },
  {
   "cell_type": "code",
   "execution_count": 17,
   "metadata": {
    "collapsed": false
   },
   "outputs": [
    {
     "data": {
      "text/plain": [
       "TruncatedSVD(algorithm='randomized', n_components=27, n_iter=100,\n",
       "       random_state=None, tol=0.0)"
      ]
     },
     "execution_count": 17,
     "metadata": {},
     "output_type": "execute_result"
    }
   ],
   "source": [
    "lsa.fit(X)"
   ]
  },
  {
   "cell_type": "code",
   "execution_count": 18,
   "metadata": {
    "collapsed": false
   },
   "outputs": [
    {
     "data": {
      "text/plain": [
       "array([ 0.01619471,  0.00506054,  0.00080803, ...,  0.00105799,\n",
       "        0.00105799,  0.00105799])"
      ]
     },
     "execution_count": 18,
     "metadata": {},
     "output_type": "execute_result"
    }
   ],
   "source": [
    "lsa.components_[0]"
   ]
  },
  {
   "cell_type": "code",
   "execution_count": 19,
   "metadata": {
    "collapsed": false,
    "scrolled": false
   },
   "outputs": [
    {
     "name": "stdout",
     "output_type": "stream",
     "text": [
      "Concept 0:\n",
      "edu\n",
      "com\n",
      "year\n",
      "writes\n",
      "team\n",
      "would\n",
      "game\n",
      "article\n",
      "cs\n",
      "baseball\n",
      " \n",
      "Concept 1:\n",
      "time\n",
      "edu\n",
      "first\n",
      "writes\n",
      "ca\n",
      "organization\n",
      "well\n",
      "runs\n",
      "win\n",
      "braves\n",
      " \n",
      "Concept 2:\n",
      "edu\n",
      "good\n",
      "team\n",
      "posting\n",
      "still\n",
      "season\n",
      "roger\n",
      "article\n",
      "even\n",
      "games\n",
      " \n",
      "Concept 3:\n",
      "games\n",
      "game\n",
      "well\n",
      "really\n",
      "posting\n",
      "make\n",
      "best\n",
      "netcom\n",
      "00\n",
      "baseball\n",
      " \n",
      "Concept 4:\n",
      "would\n",
      "game\n",
      "clutch\n",
      "much\n",
      "team\n",
      "00\n",
      "edu organization\n",
      "better\n",
      "home\n",
      "batting\n",
      " \n",
      "Concept 5:\n",
      "season\n",
      "year\n",
      "many\n",
      "time\n",
      "may\n",
      "cs cornell\n",
      "cs cornell edu\n",
      "well\n",
      "last year\n",
      "jewish\n",
      " \n",
      "Concept 6:\n",
      "game\n",
      "team\n",
      "lines\n",
      "morris\n",
      "writes\n",
      "edu\n",
      "article\n",
      "come\n",
      "pitcher\n",
      "going\n",
      " \n",
      "Concept 7:\n",
      "00\n",
      "00 00\n",
      "00 00 00\n",
      "good\n",
      "com\n",
      "play\n",
      "edu\n",
      "host\n",
      "10\n",
      "get\n",
      " \n",
      "Concept 8:\n",
      "00\n",
      "00 00\n",
      "00 00 00\n",
      "university\n",
      "morris\n",
      "year\n",
      "even\n",
      "games\n",
      "could\n",
      "baseball\n",
      " \n",
      "Concept 9:\n",
      "00\n",
      "00 00\n",
      "players\n",
      "would\n",
      "subject\n",
      "posting\n",
      "00 00 00\n",
      "like\n",
      "last\n",
      "last year\n",
      " \n",
      "Concept 10:\n",
      "posting\n",
      "one\n",
      "team\n",
      "00\n",
      "many\n",
      "average\n",
      "well\n",
      "player\n",
      "dave\n",
      "probably\n",
      " \n",
      "Concept 11:\n",
      "edu\n",
      "much\n",
      "posting\n",
      "netcom\n",
      "win\n",
      "anyone\n",
      "article\n",
      "clutch\n",
      "game\n",
      "writes\n",
      " \n",
      "Concept 12:\n",
      "hit\n",
      "com\n",
      "last year\n",
      "two\n",
      "think\n",
      "season\n",
      "play\n",
      "many\n",
      "runs\n",
      "sure\n",
      " \n",
      "Concept 13:\n",
      "year\n",
      "games\n",
      "like\n",
      "one\n",
      "writes\n",
      "well\n",
      "win\n",
      "last\n",
      "nntp posting\n",
      "nntp\n",
      " \n",
      "Concept 14:\n",
      "com\n",
      "article\n",
      "really\n",
      "writes\n",
      "much\n",
      "players\n",
      "player\n",
      "lines\n",
      "pitcher\n",
      "probably\n",
      " \n",
      "Concept 15:\n",
      "time\n",
      "better\n",
      "article\n",
      "game\n",
      "com\n",
      "organization\n",
      "could\n",
      "still\n",
      "also\n",
      "way\n",
      " \n",
      "Concept 16:\n",
      "team\n",
      "edu\n",
      "nntp posting\n",
      "nntp\n",
      "two\n",
      "nntp posting host\n",
      "posting host\n",
      "better\n",
      "baseball\n",
      "posting\n",
      " \n",
      "Concept 17:\n",
      "baseball\n",
      "team\n",
      "players\n",
      "would\n",
      "go\n",
      "year\n",
      "ball\n",
      "say\n",
      "article\n",
      "david\n",
      " \n",
      "Concept 18:\n",
      "baseball\n",
      "think\n",
      "players\n",
      "writes\n",
      "better\n",
      "organization\n",
      "distribution\n",
      "years\n",
      "still\n",
      "subject\n",
      " \n",
      "Concept 19:\n",
      "time\n",
      "game\n",
      "article\n",
      "players\n",
      "say\n",
      "posting\n",
      "writes\n",
      "one\n",
      "year\n",
      "last year\n",
      " \n",
      "Concept 20:\n",
      "com\n",
      "one\n",
      "season\n",
      "university\n",
      "could\n",
      "anyone\n",
      "back\n",
      "cs\n",
      "look\n",
      "runs\n",
      " \n",
      "Concept 21:\n",
      "one\n",
      "think\n",
      "article\n",
      "last year\n",
      "like\n",
      "much\n",
      "games\n",
      "know\n",
      "team\n",
      "hit\n",
      " \n",
      "Concept 22:\n",
      "would\n",
      "edu\n",
      "article\n",
      "see\n",
      "writes\n",
      "world\n",
      "last\n",
      "two\n",
      "think\n",
      "organization\n",
      " \n",
      "Concept 23:\n",
      "subject\n",
      "lines\n",
      "like\n",
      "season\n",
      "get\n",
      "baseball\n",
      "even\n",
      "braves\n",
      "one\n",
      "go\n",
      " \n",
      "Concept 24:\n",
      "last\n",
      "one\n",
      "com\n",
      "time\n",
      "win\n",
      "get\n",
      "also\n",
      "think\n",
      "see\n",
      "host\n",
      " \n",
      "Concept 25:\n",
      "host\n",
      "article\n",
      "subject\n",
      "team\n",
      "baseball\n",
      "two\n",
      "years\n",
      "people\n",
      "20\n",
      "let\n",
      " \n",
      "Concept 26:\n",
      "writes\n",
      "host\n",
      "organization\n",
      "com\n",
      "would\n",
      "team\n",
      "edu\n",
      "games\n",
      "still\n",
      "way\n",
      " \n"
     ]
    }
   ],
   "source": [
    "terms = vectorizer.get_feature_names()\n",
    "for i, comp in enumerate(lsa.components_): \n",
    "    termsInComp = zip (terms,comp)\n",
    "    sortedTerms =  sorted(termsInComp, key=lambda x: x[1], reverse=True) [:10]\n",
    "    print \"Concept %d:\" % i\n",
    "    for term in sortedTerms:\n",
    "        print term[0]\n",
    "    print \" \""
   ]
  },
  {
   "cell_type": "code",
   "execution_count": 20,
   "metadata": {
    "collapsed": false,
    "scrolled": true
   },
   "outputs": [
    {
     "data": {
      "text/plain": [
       "array([[  1.61947094e-02,   5.06053576e-03,   8.08026022e-04, ...,\n",
       "          1.05799324e-03,   1.05799324e-03,   1.05799324e-03],\n",
       "       [  2.58167447e-02,   1.07305894e-02,   3.45192223e-03, ...,\n",
       "          3.26753945e-04,   3.26753945e-04,   3.26753945e-04],\n",
       "       [  4.86680674e-02,   2.24190675e-02,   9.52194869e-03, ...,\n",
       "         -1.46050378e-05,  -1.46050378e-05,  -1.46050378e-05],\n",
       "       ..., \n",
       "       [  2.39271221e-03,  -1.02529725e-02,   3.58526186e-04, ...,\n",
       "          2.73475260e-04,   2.73475260e-04,   2.73475260e-04],\n",
       "       [  1.45401123e-02,   5.34269309e-03,   7.02054179e-03, ...,\n",
       "         -2.30364910e-04,  -2.30364910e-04,  -2.30364910e-04],\n",
       "       [  5.62999691e-03,   3.99708805e-02,   2.10487251e-02, ...,\n",
       "          1.10337203e-03,   1.10337203e-03,   1.10337203e-03]])"
      ]
     },
     "execution_count": 20,
     "metadata": {},
     "output_type": "execute_result"
    }
   ],
   "source": [
    "lsa.components_"
   ]
  },
  {
   "cell_type": "code",
   "execution_count": null,
   "metadata": {
    "collapsed": true
   },
   "outputs": [],
   "source": []
  }
 ],
 "metadata": {
  "kernelspec": {
   "display_name": "Python 2",
   "language": "python",
   "name": "python2"
  },
  "language_info": {
   "codemirror_mode": {
    "name": "ipython",
    "version": 2
   },
   "file_extension": ".py",
   "mimetype": "text/x-python",
   "name": "python",
   "nbconvert_exporter": "python",
   "pygments_lexer": "ipython2",
   "version": "2.7.11"
  }
 },
 "nbformat": 4,
 "nbformat_minor": 0
}
